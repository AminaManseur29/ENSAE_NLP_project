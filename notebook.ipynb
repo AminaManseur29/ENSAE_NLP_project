{
 "cells": [
  {
   "cell_type": "markdown",
   "metadata": {},
   "source": [
    "# Import des librairies nécessaires "
   ]
  },
  {
   "cell_type": "code",
   "execution_count": 42,
   "metadata": {},
   "outputs": [
    {
     "data": {
      "text/plain": [
       "True"
      ]
     },
     "execution_count": 42,
     "metadata": {},
     "output_type": "execute_result"
    }
   ],
   "source": [
    "import pandas as pd\n",
    "import json\n",
    "import numpy as np\n",
    "import os\n",
    "import sys\n",
    "import argparse\n",
    "import dotenv \n",
    "import matplotlib.pyplot as plt\n",
    "import seaborn as sns\n",
    "import matplotlib.ticker as ticker\n",
    "import matplotlib.dates as mdates\n",
    "\n",
    "from sklearn.model_selection import train_test_split\n",
    "\n",
    "dotenv.load_dotenv()"
   ]
  },
  {
   "cell_type": "markdown",
   "metadata": {},
   "source": [
    "# Chargement des données"
   ]
  },
  {
   "cell_type": "code",
   "execution_count": null,
   "metadata": {},
   "outputs": [
    {
     "name": "stdout",
     "output_type": "stream",
     "text": [
      "Le nombre de textes écrits par l'humaine est  :  6000\n"
     ]
    }
   ],
   "source": [
    "# Chargement des données écrites par l'humain\n",
    "human_lines_path = 'data/en_human_lines.jsonl'\n",
    "human_df = pd.read_json(human_lines_path, lines=True)\n",
    "print(\"Le nombre de textes écrits par l'humaine est  : \", human_df.shape[0])"
   ]
  },
  {
   "cell_type": "code",
   "execution_count": null,
   "metadata": {},
   "outputs": [
    {
     "name": "stdout",
     "output_type": "stream",
     "text": [
      "Le nombre de textes générés par le modèle GPT-2 est  :  6000\n"
     ]
    }
   ],
   "source": [
    "# Chargement des données générées par le modèle GPT-2\n",
    "gpt2_lines_path = 'data/en_gpt2_lines.jsonl'\n",
    "gpt2_df = pd.read_json(gpt2_lines_path, lines=True)\n",
    "print(\"Le nombre de textes générés par le modèle GPT-2 est  : \", gpt2_df.shape[0])"
   ]
  },
  {
   "cell_type": "code",
   "execution_count": null,
   "metadata": {},
   "outputs": [],
   "source": [
    "# Chargement des données générées par le modèle GPT-3\n",
    "gpt3_lines_path = 'data/en_gpt3_lines.jsonl'\n",
    "gpt3_df = pd.read_json(gpt3_lines_path, lines=True)\n",
    "print(\"Le nombre de textes générés par le modèle GPT-3 est  : \", gpt3_df.shape[0])"
   ]
  },
  {
   "cell_type": "code",
   "execution_count": 33,
   "metadata": {},
   "outputs": [
    {
     "name": "stdout",
     "output_type": "stream",
     "text": [
      "Le nombre de textes générés par le modèle LLaMA est  :  5904\n"
     ]
    }
   ],
   "source": [
    "# Chargement des données générées par le modèle LLaMA\n",
    "llama_lines_path = 'data/en_llama_lines.jsonl'\n",
    "llama_df = pd.read_json(llama_lines_path, lines=True)\n",
    "print(\"Le nombre de textes générés par le modèle LLaMA est  : \", llama_df.shape[0])"
   ]
  },
  {
   "cell_type": "markdown",
   "metadata": {},
   "source": [
    "# Prétraitement des données"
   ]
  },
  {
   "cell_type": "markdown",
   "metadata": {},
   "source": [
    "## Création de la base de données"
   ]
  },
  {
   "cell_type": "code",
   "execution_count": 36,
   "metadata": {},
   "outputs": [
    {
     "name": "stdout",
     "output_type": "stream",
     "text": [
      "Le nombre total de textes est :  12000\n",
      "Le nombre de textes par source est :\n",
      "label\n",
      "human     6000\n",
      "gpt2      2000\n",
      "llama     2000\n",
      "gpt3re    2000\n",
      "Name: count, dtype: int64\n",
      "Aperçu du dataframe échantillonné :\n",
      "                                                text  prompt_len  label  \\\n",
      "0  In the triplet form, O 2 molecules are paramag...       298.0   gpt2   \n",
      "1  Studies on income inequality and growth have s...         NaN  human   \n",
      "2  JCF Capital ULC announced on Tuesday a deal wi...       226.0   gpt2   \n",
      "3  The right to create private schools in Germany...         NaN  human   \n",
      "4  during the week of 2015-05-11 Aatrox was last ...       790.0   gpt2   \n",
      "\n",
      "   text_length  \n",
      "0         1477  \n",
      "1          605  \n",
      "2          424  \n",
      "3          622  \n",
      "4         1361  \n"
     ]
    }
   ],
   "source": [
    "# Tirage aléatoire de 2000 textes dans chaque dataframe issu des LLMs\n",
    "gpt2_sample = gpt2_df.sample(n=2000, random_state=42)\n",
    "gpt3_sample = gpt3_df.sample(n=2000, random_state=42)\n",
    "llama_sample = llama_df.sample(n=2000, random_state=42)\n",
    "\n",
    "# Concaténation des échantillons dans un seul dataframe\n",
    "sample_df = pd.concat([gpt2_sample, gpt3_sample, llama_sample], ignore_index=True)\n",
    "\n",
    "# Ajout de toutes les données écrites par l'humain\n",
    "sample_df = pd.concat([sample_df, human_df], ignore_index=True)\n",
    "\n",
    "# Mélanger les lignes du dataframe\n",
    "sample_df = sample_df.sample(frac=1, random_state=42).reset_index(drop=True)\n",
    "\n",
    "# Ajout du nombre de caractères dans chaque texte\n",
    "sample_df['text_length'] = sample_df['text'].apply(len)\n",
    "\n",
    "# Sauvegarde du dataframe échantillonné dans un fichier JSONL\n",
    "sample_df.to_json('data/en_sample_lines.jsonl', orient='records', lines=True)\n",
    "\n",
    "# Affichage du nombre total de textes   \n",
    "print(\"Le nombre total de textes est : \", sample_df.shape[0])\n",
    "# Affichage du nombre de textes par source\n",
    "print(\"Le nombre de textes par source est :\")\n",
    "print(sample_df['label'].value_counts())\n",
    "\n",
    "# Affichage du début du dataframe\n",
    "print(\"Aperçu du dataframe échantillonné :\")\n",
    "print(sample_df.head())"
   ]
  },
  {
   "cell_type": "markdown",
   "metadata": {},
   "source": [
    "## Découpe de la base de données en base d'entraînement et base de test"
   ]
  },
  {
   "cell_type": "code",
   "execution_count": 39,
   "metadata": {},
   "outputs": [],
   "source": [
    "# Découpe de la base de données en base d'entraînement et de test (80% - 20%)\n",
    "train_df, test_df = train_test_split(sample_df, test_size=0.2, random_state=42)\n",
    "# Sauvegarde des dataframes d'entraînement et de test dans des fichiers JSONL\n",
    "train_df.to_json('data/en_train_lines.jsonl', orient='records', lines=True)\n",
    "test_df.to_json('data/en_test_lines.jsonl', orient='records', lines=True)"
   ]
  },
  {
   "cell_type": "code",
   "execution_count": 44,
   "metadata": {},
   "outputs": [
    {
     "data": {
      "text/html": [
       "<div>\n",
       "<style scoped>\n",
       "    .dataframe tbody tr th:only-of-type {\n",
       "        vertical-align: middle;\n",
       "    }\n",
       "\n",
       "    .dataframe tbody tr th {\n",
       "        vertical-align: top;\n",
       "    }\n",
       "\n",
       "    .dataframe thead th {\n",
       "        text-align: right;\n",
       "    }\n",
       "</style>\n",
       "<table border=\"1\" class=\"dataframe\">\n",
       "  <thead>\n",
       "    <tr style=\"text-align: right;\">\n",
       "      <th></th>\n",
       "      <th>text</th>\n",
       "      <th>prompt_len</th>\n",
       "      <th>label</th>\n",
       "      <th>text_length</th>\n",
       "    </tr>\n",
       "  </thead>\n",
       "  <tbody>\n",
       "    <tr>\n",
       "      <th>0</th>\n",
       "      <td>In the triplet form, O 2 molecules are paramag...</td>\n",
       "      <td>298.0</td>\n",
       "      <td>gpt2</td>\n",
       "      <td>1477</td>\n",
       "    </tr>\n",
       "    <tr>\n",
       "      <th>1</th>\n",
       "      <td>Studies on income inequality and growth have s...</td>\n",
       "      <td>NaN</td>\n",
       "      <td>human</td>\n",
       "      <td>605</td>\n",
       "    </tr>\n",
       "    <tr>\n",
       "      <th>2</th>\n",
       "      <td>JCF Capital ULC announced on Tuesday a deal wi...</td>\n",
       "      <td>226.0</td>\n",
       "      <td>gpt2</td>\n",
       "      <td>424</td>\n",
       "    </tr>\n",
       "    <tr>\n",
       "      <th>3</th>\n",
       "      <td>The right to create private schools in Germany...</td>\n",
       "      <td>NaN</td>\n",
       "      <td>human</td>\n",
       "      <td>622</td>\n",
       "    </tr>\n",
       "    <tr>\n",
       "      <th>4</th>\n",
       "      <td>during the week of 2015-05-11 Aatrox was last ...</td>\n",
       "      <td>790.0</td>\n",
       "      <td>gpt2</td>\n",
       "      <td>1361</td>\n",
       "    </tr>\n",
       "  </tbody>\n",
       "</table>\n",
       "</div>"
      ],
      "text/plain": [
       "                                                text  prompt_len  label  \\\n",
       "0  In the triplet form, O 2 molecules are paramag...       298.0   gpt2   \n",
       "1  Studies on income inequality and growth have s...         NaN  human   \n",
       "2  JCF Capital ULC announced on Tuesday a deal wi...       226.0   gpt2   \n",
       "3  The right to create private schools in Germany...         NaN  human   \n",
       "4  during the week of 2015-05-11 Aatrox was last ...       790.0   gpt2   \n",
       "\n",
       "   text_length  \n",
       "0         1477  \n",
       "1          605  \n",
       "2          424  \n",
       "3          622  \n",
       "4         1361  "
      ]
     },
     "execution_count": 44,
     "metadata": {},
     "output_type": "execute_result"
    }
   ],
   "source": [
    "sample_df.head()"
   ]
  },
  {
   "cell_type": "markdown",
   "metadata": {},
   "source": [
    "# Analyse descriptive"
   ]
  },
  {
   "cell_type": "markdown",
   "metadata": {},
   "source": [
    "## Analyse élémentaire"
   ]
  },
  {
   "cell_type": "code",
   "execution_count": 40,
   "metadata": {},
   "outputs": [
    {
     "name": "stdout",
     "output_type": "stream",
     "text": [
      "Le nombre de textes dans le dataframe d'entraînement est :  9600\n",
      "Le nombre de textes dans le dataframe de test est :  2400\n",
      "Le nombre de textes par source dans le dataframe d'entraînement est :\n",
      "label\n",
      "human     4790\n",
      "gpt3re    1614\n",
      "llama     1601\n",
      "gpt2      1595\n",
      "Name: count, dtype: int64\n",
      "Le nombre de textes par source dans le dataframe de test est :\n",
      "label\n",
      "human     1210\n",
      "gpt2       405\n",
      "llama      399\n",
      "gpt3re     386\n",
      "Name: count, dtype: int64\n"
     ]
    }
   ],
   "source": [
    "# Affichage du nombre de textes dans les dataframes d'entraînement et de test\n",
    "print(\"Le nombre de textes dans le dataframe d'entraînement est : \", train_df.shape[0])\n",
    "print(\"Le nombre de textes dans le dataframe de test est : \", test_df.shape[0])\n",
    "\n",
    "# Affichage du nombre de textes par source dans les dataframes d'entraînement et de test\n",
    "print(\"Le nombre de textes par source dans le dataframe d'entraînement est :\")\n",
    "print(train_df['label'].value_counts())\n",
    "print(\"Le nombre de textes par source dans le dataframe de test est :\")\n",
    "print(test_df['label'].value_counts())\n"
   ]
  },
  {
   "cell_type": "code",
   "execution_count": 45,
   "metadata": {},
   "outputs": [
    {
     "name": "stderr",
     "output_type": "stream",
     "text": [
      "C:\\Users\\hp\\AppData\\Local\\Temp\\ipykernel_7652\\749251633.py:15: UserWarning: No artists with labels found to put in legend.  Note that artists whose label start with an underscore are ignored when legend() is called with no argument.\n",
      "  ax.legend(title='Source', fontsize=12)\n"
     ]
    },
    {
     "data": {
      "image/png": "[encoded data removed]",
      "text/plain": [
       "<Figure size 1200x600 with 1 Axes>"
      ]
     },
     "metadata": {},
     "output_type": "display_data"
    }
   ],
   "source": [
    "# Graphique de la distribution des longueurs de texte par source\n",
    "\n",
    "# Configuration de Seaborn\n",
    "sns.set(style=\"whitegrid\")\n",
    "sns.set_palette(\"pastel\")\n",
    "\n",
    "# Création de la figure et des axes\n",
    "fig, ax = plt.subplots(figsize=(12, 6))\n",
    "# Création de l'histogramme\n",
    "sns.histplot(data=sample_df, x='text_length', hue='label', bins=30, kde=True, ax=ax)\n",
    "# Configuration des axes\n",
    "ax.set_xlabel('Longueur du texte (nombre de caractères)', fontsize=14)\n",
    "ax.set_ylabel('Nombre de textes', fontsize=14)\n",
    "ax.set_title('Distribution des longueurs de texte par source', fontsize=16)\n",
    "ax.legend(title='Source', fontsize=12)\n",
    "# Affichage de la grille\n",
    "ax.grid(True, linestyle='--', alpha=0.7)\n",
    "# Affichage du graphique\n",
    "plt.tight_layout()\n",
    "# plt.savefig('data/text_length_distribution.png', dpi=300)\n",
    "plt.show()"
   ]
  },
  {
   "cell_type": "code",
   "execution_count": 46,
   "metadata": {},
   "outputs": [],
   "source": [
    "# Graphique du nombre de tokens par texte"
   ]
  },
  {
   "cell_type": "code",
   "execution_count": null,
   "metadata": {},
   "outputs": [],
   "source": [
    "# Nuage de mots pour les textes écrits par l'humain\n",
    "\n",
    "# Nuage de mots pour les textes générés par les LLMs (tout modèle confondu)\n",
    "\n",
    "# Nuage de mots pour les textes générés par le modèle GPT2\n",
    "\n",
    "# Nuage de mots pour les texte générés par le modèle GPT3   \n",
    "\n",
    "# Nuage de mots pour les texte générés par le modèle LLaMA"
   ]
  },
  {
   "cell_type": "markdown",
   "metadata": {},
   "source": [
    "## Définition de caractéristiques des données"
   ]
  },
  {
   "cell_type": "code",
   "execution_count": null,
   "metadata": {},
   "outputs": [],
   "source": [
    "# Encodage des textes avec Bag-of-word\n",
    "\n",
    "# Encodage des textes avec TF-IDF\n",
    "\n",
    "# Tokenisation des textes avec BERT\n",
    "\n",
    "# Embedding des tokens avec Word2Vec (à entraîner sur la base de données d'entraînement)\n",
    "\n",
    "# Encodage des textes avec BERT\n",
    "\n",
    "# Embedding des textes avec Sentence-BERT\n",
    "\n",
    "# Encodage des textes avec FastText\n"
   ]
  },
  {
   "cell_type": "code",
   "execution_count": null,
   "metadata": {},
   "outputs": [],
   "source": [
    "# Caractéristiques issues de https://aclanthology.org/2022.coling-1.573.pdf\n",
    "# stylistiques \n",
    "## quote frequency (QF) : fréquence des \", ', «, », etc.\n",
    "## ponctuation frequency (PF)  : fréquence des ., ;, :, !, ?, etc.\n",
    "## punctuation types (PT) : nombre de types de ponctuation différents\n",
    "## exclamation frequency (EF) : fréquence des !\n",
    "## Stopwords frequency (SWF) : fréquence des mots vides (stopwords) (en utilisant nltk)\n",
    "## Camel-case frequency (CCF) : fréquence des mots commençant \n",
    "\n",
    "\n",
    "# Caractéristiques issues de https://ieeexplore.ieee.org/stamp/stamp.jsp?arnumber=10191322&casa_token=0V5w74hKS34AAAAA:feek9xbq9qc-9nCtHZ2PUWKCHl0Gz9qUuCj8o25HvCB2xcv5n35q9mZnyNMjAu0kd7LM2QqKDvHAvv4&tag=1"
   ]
  },
  {
   "cell_type": "markdown",
   "metadata": {},
   "source": [
    "# Modélisation"
   ]
  },
  {
   "cell_type": "markdown",
   "metadata": {},
   "source": [
    "## Classifier par caractéristiques"
   ]
  },
  {
   "cell_type": "markdown",
   "metadata": {},
   "source": [
    "### Modèle MultinomialNB"
   ]
  },
  {
   "cell_type": "markdown",
   "metadata": {},
   "source": [
    "### Définition, entraînement et évaluation du modèle : "
   ]
  },
  {
   "cell_type": "code",
   "execution_count": null,
   "metadata": {},
   "outputs": [],
   "source": [
    "# Train a Naive Bayes classifier\n",
    "# create the MultinomialNB\n",
    "clf = MultinomialNB()\n",
    "# Train \n",
    "clf.fit(X_train_tf, y_train)\n",
    "# Evaluate \n",
    "print(\"Score sur l'ensemble d'entraînement :\", clf.score(X_train_tf, y_train))\n",
    "print(\"Score sur l'ensemble de test :\", clf.score(X_test_tf, y_test))\n",
    "print(\"Score sur l'ensemble dev:\", clf.score(X_dev_tf, y_dev))"
   ]
  },
  {
   "cell_type": "markdown",
   "metadata": {},
   "source": [
    "#### Analyse des erreurs "
   ]
  },
  {
   "cell_type": "code",
   "execution_count": null,
   "metadata": {},
   "outputs": [],
   "source": [
    "from sklearn.metrics import classification_report, ConfusionMatrixDisplay, confusion_matrix\n",
    "\n",
    "y_pred = clf.predict(X_test_tf)\n",
    "print(classification_report(y_test, y_pred))\n",
    "\n",
    "# Calcul de la matrice de confusion\n",
    "cm = confusion_matrix(y_test, y_pred, normalize='true')\n",
    "\n",
    "# Affichage de la matrice de confusion\n",
    "disp = ConfusionMatrixDisplay(confusion_matrix=cm, display_labels=articles_df.category.unique())\n",
    "disp.plot()"
   ]
  },
  {
   "cell_type": "markdown",
   "metadata": {},
   "source": [
    "### Autres modèles"
   ]
  },
  {
   "cell_type": "markdown",
   "metadata": {},
   "source": [
    "## LLM detector"
   ]
  },
  {
   "cell_type": "markdown",
   "metadata": {},
   "source": [
    "### Définition du modèle"
   ]
  },
  {
   "cell_type": "markdown",
   "metadata": {},
   "source": [
    "### Test - calcul des performances"
   ]
  }
 ],
 "metadata": {
  "kernelspec": {
   "display_name": "venv",
   "language": "python",
   "name": "python3"
  },
  "language_info": {
   "codemirror_mode": {
    "name": "ipython",
    "version": 3
   },
   "file_extension": ".py",
   "mimetype": "text/x-python",
   "name": "python",
   "nbconvert_exporter": "python",
   "pygments_lexer": "ipython3",
   "version": "3.11.9"
  }
 },
 "nbformat": 4,
 "nbformat_minor": 2
}
